{
 "cells": [
  {
   "cell_type": "code",
   "execution_count": 77,
   "metadata": {},
   "outputs": [
    {
     "name": "stdout",
     "output_type": "stream",
     "text": [
      "/Users/iptkrisna/Python/data-science/data-science-project/data/covid_id.csv\n",
      "covid_id.csv\n"
     ]
    }
   ],
   "source": [
    "import os\n",
    "import requests\n",
    "import json\n",
    "import csv\n",
    "\n",
    "def download():\n",
    "    url = 'https://data.covid19.go.id/public/api/update.json?_=1592281989293'\n",
    "    covid_path = os.path.abspath(os.getcwd()) + '/data/covid_id.csv'\n",
    "    print(covid_path)\n",
    "    with open(covid_path, 'w') as fp:\n",
    "        response = requests.get(url)\n",
    "        writer = csv.writer(fp)\n",
    "        data = response.json()\n",
    "        fp.write('tanggal,key,jumlah_item,jumlah_meninggal,jumlah_sembuh,jumlah_positif,jumlah_dirawat,jumlah_positif_kum,jumlah_sembuh_kum,jumlah_meninggal_kum,jumlah_dirawat_kum\\n')\n",
    "        for ln in data['update']['harian']:\n",
    "            item = ''\n",
    "            line = ln.values()\n",
    "            line_iterator = iter(line)\n",
    "            tanggal = str(next(line_iterator))\n",
    "            key = str(next(line_iterator))\n",
    "            jumlah_item = str(next(line_iterator))\n",
    "            jumlah_meninggal = str(next(line_iterator)['value'])\n",
    "            jumlah_sembuh = str(next(line_iterator)['value'])\n",
    "            jumlah_positif = str(next(line_iterator)['value'])\n",
    "            jumlah_dirawat = str(next(line_iterator)['value'])\n",
    "            jumlah_positif_kum = str(next(line_iterator)['value'])\n",
    "            jumlah_sembuh_kum = str(next(line_iterator)['value'])\n",
    "            jumlah_meninggal_kum = str(next(line_iterator)['value'])\n",
    "            jumlah_dirawat_kum = str(next(line_iterator)['value'])\n",
    "            item = tanggal + ',' + key + ',' + jumlah_item + ',' + jumlah_meninggal + ',' + jumlah_sembuh + ',' + jumlah_positif + ',' + jumlah_dirawat + ',' + jumlah_positif_kum + ',' + jumlah_sembuh_kum + ',' + jumlah_meninggal_kum + ',' + jumlah_dirawat_kum + '\\n'\n",
    "            fp.write(item)\n",
    "        print(os.path.basename(covid_path))\n",
    "                    \n",
    "def combine():\n",
    "    covid_path = os.path.abspath(os.getcwd()) + '/data/covid_id.csv'\n",
    "    ihsg_path = os.path.abspath(os.getcwd()) + '/data/ihsg.csv'\n",
    "    combine_path = os.path.abspath(os.getcwd()) + '/data/combine.csv'\n",
    "    with open(covid_path, 'r') as fp, open(ihsg_path, 'r') as fq, open(combine_path, 'w') as fr:\n",
    "        covid = reader(fp)\n",
    "        ihsg = reader(fq)\n",
    "        ihsg_iterator = iter(ihsg)\n",
    "        counter = 0\n",
    "        ihsg_i = next(ihsg_iterator)\n",
    "        for row in covid:\n",
    "            try:\n",
    "                counter += 1\n",
    "                if (counter < 6):\n",
    "                    print(row + ihsg_i)\n",
    "                    item = row + ihsg_i[1:]\n",
    "                    fr.write(','.join(item) + '\\n')\n",
    "                    ihsg_i = next(ihsg_iterator)\n",
    "                else:\n",
    "                    print(row, ihsg_i)\n",
    "                    item = row + ihsg_i[1:]\n",
    "                    fr.write(','.join(item) + '\\n')\n",
    "                if counter > 6:\n",
    "                    counter = 0\n",
    "            except StopIteration:\n",
    "                break\n",
    "\n",
    "download()"
   ]
  },
  {
   "cell_type": "code",
   "execution_count": null,
   "metadata": {},
   "outputs": [],
   "source": [
    "def txt_to_csv:\n",
    "    "
   ]
  }
 ],
 "metadata": {
  "kernelspec": {
   "display_name": "Python 3",
   "language": "python",
   "name": "python3"
  },
  "language_info": {
   "codemirror_mode": {
    "name": "ipython",
    "version": 3
   },
   "file_extension": ".py",
   "mimetype": "text/x-python",
   "name": "python",
   "nbconvert_exporter": "python",
   "pygments_lexer": "ipython3",
   "version": "3.7.6"
  }
 },
 "nbformat": 4,
 "nbformat_minor": 2
}
